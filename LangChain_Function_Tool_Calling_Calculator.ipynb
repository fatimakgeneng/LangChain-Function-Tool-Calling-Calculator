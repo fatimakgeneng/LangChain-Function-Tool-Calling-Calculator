{
  "nbformat": 4,
  "nbformat_minor": 0,
  "metadata": {
    "colab": {
      "provenance": [],
      "authorship_tag": "ABX9TyN8qElPrjCsqWr9kY7kVnA2",
      "include_colab_link": true
    },
    "kernelspec": {
      "name": "python3",
      "display_name": "Python 3"
    },
    "language_info": {
      "name": "python"
    }
  },
  "cells": [
    {
      "cell_type": "markdown",
      "metadata": {
        "id": "view-in-github",
        "colab_type": "text"
      },
      "source": [
        "<a href=\"https://colab.research.google.com/github/fatimakgeneng/LangChain-Function-Tool-Calling-Calculator/blob/main/LangChain_Function_Tool_Calling_Calculator.ipynb\" target=\"_parent\"><img src=\"https://colab.research.google.com/assets/colab-badge.svg\" alt=\"Open In Colab\"/></a>"
      ]
    },
    {
      "cell_type": "code",
      "execution_count": 19,
      "metadata": {
        "collapsed": true,
        "id": "KrZiLlceyb3i"
      },
      "outputs": [],
      "source": [
        "%pip install -q -U python-dotenv langchain google-generativeai"
      ]
    },
    {
      "cell_type": "code",
      "source": [
        "import os\n",
        "from dotenv import load_dotenv\n",
        "from google.colab import userdata\n",
        "\n",
        "os.environ['GOOGLE_API_KEY'] = userdata.get('GOOGLE_API_KEY')"
      ],
      "metadata": {
        "id": "tk_S5sTo2bCY"
      },
      "execution_count": 20,
      "outputs": []
    },
    {
      "cell_type": "code",
      "source": [
        "class Calculator:\n",
        "    def calculate(self, expression: str) -> str:\n",
        "        try:\n",
        "            # Use Python's eval to compute the result safely\n",
        "            result = eval(expression, {\"__builtins__\": None}, {})\n",
        "            return str(result)\n",
        "        except Exception as e:\n",
        "            return f\"Error: {e}\""
      ],
      "metadata": {
        "id": "SXubxK-y2aua"
      },
      "execution_count": 21,
      "outputs": []
    },
    {
      "cell_type": "code",
      "source": [
        "from langchain.tools import tool\n",
        "\n",
        "# Define the tool using a decorator\n",
        "@tool\n",
        "def calculator(expression: str) -> str:\n",
        "    \"\"\"\n",
        "    Perform arithmetic calculations.\n",
        "    Input: A mathematical expression as a string (e.g., \"2 + 2\").\n",
        "    Output: Result of the calculation as a string.\n",
        "    \"\"\"\n",
        "    calc = Calculator()\n",
        "    return calc.calculate(expression)"
      ],
      "metadata": {
        "id": "S-ccA9IA3BlS"
      },
      "execution_count": 22,
      "outputs": []
    },
    {
      "cell_type": "code",
      "source": [
        "from langchain_google_genai import ChatGoogleGenerativeAI\n",
        "from langchain.chains import ConversationChain\n",
        "from langchain.agents import initialize_agent, Tool, AgentType, AgentExecutor\n",
        "\n",
        "# Initialize the Gemini model\n",
        "gemini_model = ChatGoogleGenerativeAI(\n",
        "    model=\"gemini-1.5-flash\", api_key=os.environ[\"GOOGLE_API_KEY\"])\n",
        "\n",
        "# Define tools\n",
        "tools = [calculator]\n",
        "\n",
        "# Create a ToolAgent for the calculator\n",
        "agent = initialize_agent(tools, gemini_model, agent=AgentType.ZERO_SHOT_REACT_DESCRIPTION)\n",
        "executor = AgentExecutor.from_agent_and_tools(agent, tools)\n"
      ],
      "metadata": {
        "id": "4p6bpOYjj6zK"
      },
      "execution_count": 52,
      "outputs": []
    },
    {
      "cell_type": "code",
      "source": [
        "from langchain.memory import ConversationBufferMemory\n",
        "\n",
        "# Set up memory to maintain conversation context\n",
        "memory = ConversationBufferMemory()\n",
        "\n",
        "# Build the conversational chain\n",
        "chain = ConversationChain(\n",
        "    llm=gemini_model,\n",
        "    memory=memory\n",
        ")"
      ],
      "metadata": {
        "id": "w-rA_aTnneil"
      },
      "execution_count": 55,
      "outputs": []
    },
    {
      "cell_type": "code",
      "source": [
        "# User query\n",
        "query = \"What is 15 divided by 3?\"\n",
        "\n",
        "# Get response from the system\n",
        "response = chain.run(query)\n",
        "print(response)"
      ],
      "metadata": {
        "colab": {
          "base_uri": "https://localhost:8080/"
        },
        "id": "XoWuQb0hneVV",
        "outputId": "f76f7e7d-6c2e-4d88-cb9b-383734fbb4e3"
      },
      "execution_count": 56,
      "outputs": [
        {
          "output_type": "stream",
          "name": "stdout",
          "text": [
            "15 divided by 3 is 5.  That's a simple division problem;  15 contains three groups of five, or five groups of three.  It's a fundamental arithmetic operation that forms the basis of many more complex calculations.  I can perform much more complex mathematical operations as well, if you'd like!  Just let me know.\n",
            "\n"
          ]
        }
      ]
    },
    {
      "cell_type": "code",
      "source": [
        "queries = [\n",
        "    \"What is 25 multiplied by 4?\",\n",
        "    \"Now divide the result by 5.\",\n",
        "    \"Add 10 to that.\"\n",
        "]\n",
        "\n",
        "for q in queries:\n",
        "    print(\"Query:\", q)\n",
        "    print(\"Response:\", chain.run(q))\n",
        "    print(\"-\" * 40)"
      ],
      "metadata": {
        "id": "qgkyk39Gg1_E",
        "colab": {
          "base_uri": "https://localhost:8080/"
        },
        "outputId": "d95d559d-de55-428a-d273-c52f39f592f4"
      },
      "execution_count": 57,
      "outputs": [
        {
          "output_type": "stream",
          "name": "stdout",
          "text": [
            "Query: What is 25 multiplied by 4?\n",
            "Response: 25 multiplied by 4 is 100.  That's equivalent to adding four 25s together (25 + 25 + 25 + 25 = 100).  You could also think of it as 25 doubled (50) and then doubled again (100).  Multiplication is the inverse operation of division, and understanding both is crucial for grasping many mathematical concepts.  This calculation is also easily visualized – imagine four rows of 25 objects each; counting them all would yield 100.  I can handle more intricate multiplication problems too, or any other mathematical operation you might have in mind.\n",
            "\n",
            "----------------------------------------\n",
            "Query: Now divide the result by 5.\n",
            "Response: 100 divided by 5 is 20.  This is because five goes into 100 twenty times (5 x 20 = 100).  You can also think of it as dividing 100 into five equal groups, with each group containing 20.  This again demonstrates the relationship between multiplication and division.  As you can see, I can easily handle these kinds of sequential calculations.  Do you have any other arithmetic problems you'd like me to solve?  Perhaps something involving fractions, decimals, or even more advanced mathematics? I'm ready for a challenge!\n",
            "\n",
            "----------------------------------------\n",
            "Query: Add 10 to that.\n",
            "Response: Adding 10 to 20 results in 30.  This is a basic addition problem; we simply combine the two numbers.  It's one of the most fundamental arithmetic operations, along with subtraction, multiplication, and division.  These four operations are the building blocks for more complex mathematical concepts and calculations.  I can, of course, handle much more complex addition problems, or any other mathematical operation you can think of.  What would you like to try next?\n",
            "\n",
            "----------------------------------------\n"
          ]
        }
      ]
    }
  ]
}